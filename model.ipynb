{
 "cells": [
  {
   "cell_type": "code",
   "execution_count": 1,
   "metadata": {},
   "outputs": [
    {
     "name": "stdout",
     "output_type": "stream",
     "text": [
      "Accuracy: 0.7886178861788617\n",
      "Classification Report:\n",
      "              precision    recall  f1-score   support\n",
      "\n",
      "           0       0.87      0.47      0.61        43\n",
      "           1       0.77      0.96      0.86        80\n",
      "\n",
      "    accuracy                           0.79       123\n",
      "   macro avg       0.82      0.71      0.73       123\n",
      "weighted avg       0.80      0.79      0.77       123\n",
      "\n"
     ]
    }
   ],
   "source": [
    "import pandas as pd\n",
    "from sklearn.preprocessing import LabelEncoder, StandardScaler\n",
    "from sklearn.ensemble import RandomForestClassifier\n",
    "from sklearn.metrics import accuracy_score, classification_report\n",
    "from sklearn.model_selection import train_test_split\n",
    "\n",
    "# Load the dataset\n",
    "loan_data = pd.read_csv(\"loan_data_train.csv\")\n",
    "\n",
    "# Drop irrelevant features (Loan_ID)\n",
    "loan_data.drop(\"Loan_ID\", axis=1, inplace=True)\n",
    "\n",
    "# Handle missing values\n",
    "loan_data.ffill(inplace=True)  # Forward fill missing values\n",
    "\n",
    "# Encode categorical variables\n",
    "encoder = LabelEncoder()\n",
    "categorical_cols = ['Gender', 'Married', 'Education', 'Self_Employed', 'Property_Area']\n",
    "for col in categorical_cols:\n",
    "    loan_data[col] = encoder.fit_transform(loan_data[col])\n",
    "\n",
    "# Manually encode 'Dependents' column to ensure consistency\n",
    "dependents_mapping = {'0': 0, '1': 1, '2': 2, '3+': 3}\n",
    "loan_data['Dependents'] = loan_data['Dependents'].map(dependents_mapping)\n",
    "\n",
    "# Encode target variable 'Loan_Status'\n",
    "loan_data['Loan_Status'] = loan_data['Loan_Status'].map({'Y': 1, 'N': 0})\n",
    "\n",
    "# Split dataset into features and target variable\n",
    "X = loan_data.drop(\"Loan_Status\", axis=1)\n",
    "y = loan_data[\"Loan_Status\"]\n",
    "\n",
    "# Split the dataset into training and test sets\n",
    "X_train, X_test, y_train, y_test = train_test_split(X, y, test_size=0.2, random_state=42)\n",
    "\n",
    "# Scale numerical features in the training data\n",
    "scaler = StandardScaler()\n",
    "X_train_scaled = scaler.fit_transform(X_train)\n",
    "\n",
    "# Initialize and train the model\n",
    "model = RandomForestClassifier(n_estimators=100, random_state=42)\n",
    "model.fit(X_train_scaled, y_train)\n",
    "\n",
    "# Preprocess test data\n",
    "# Scale numerical features in the test data\n",
    "X_test_scaled = scaler.transform(X_test)\n",
    "\n",
    "# Predict on the test set\n",
    "y_pred = model.predict(X_test_scaled)\n",
    "\n",
    "# # Output predictions\n",
    "# test_data_with_predictions = X_test.copy()\n",
    "# test_data_with_predictions['Loan_Status'] = y_pred\n",
    "# test_data_with_predictions['Loan_Status'] = test_data_with_predictions['Loan_Status'].map({1: 'Y', 0: 'N'})\n",
    "\n",
    "# Save the test data with predicted loan status to a CSV file\n",
    "# test_data_with_predictions.to_csv('loan_data_test_with_predictions.csv', index=False)\n",
    "\n",
    "# Evaluate the model\n",
    "accuracy = accuracy_score(y_test, y_pred)\n",
    "classification_rep = classification_report(y_test, y_pred)\n",
    "print(\"Accuracy:\", accuracy)\n",
    "print(\"Classification Report:\")\n",
    "print(classification_rep)\n"
   ]
  }
 ],
 "metadata": {
  "kernelspec": {
   "display_name": "Python 3",
   "language": "python",
   "name": "python3"
  },
  "language_info": {
   "codemirror_mode": {
    "name": "ipython",
    "version": 3
   },
   "file_extension": ".py",
   "mimetype": "text/x-python",
   "name": "python",
   "nbconvert_exporter": "python",
   "pygments_lexer": "ipython3",
   "version": "3.12.3"
  }
 },
 "nbformat": 4,
 "nbformat_minor": 2
}
